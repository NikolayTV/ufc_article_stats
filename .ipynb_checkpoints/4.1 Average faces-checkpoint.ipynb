{
 "cells": [
  {
   "cell_type": "code",
   "execution_count": 1,
   "id": "38e0e3cb",
   "metadata": {},
   "outputs": [
    {
     "name": "stdout",
     "output_type": "stream",
     "text": [
      "Loading face detector and landmark prediction models...\n",
      "Done, models loaded.\n"
     ]
    }
   ],
   "source": [
    "import sys\n",
    "# appending a path\n",
    "sys.path.append('Facer/')\n",
    "from facer import facer\n"
   ]
  },
  {
   "cell_type": "code",
   "execution_count": null,
   "id": "f9cd3b76",
   "metadata": {
    "scrolled": true
   },
   "outputs": [
    {
     "name": "stdout",
     "output_type": "stream",
     "text": [
      "\n",
      "Found 1515 in './data/photos/'.\n",
      "(1 / 1515): ./data/photos/1000_anfas.jpg\n",
      "(153 / 1515): ./data/photos/1138_anfas.jpg\n",
      "(305 / 1515): ./data/photos/1275_anfas.jpg\n",
      "(457 / 1515): ./data/photos/1412_anfas.jpg\n",
      "(609 / 1515): ./data/photos/214_anfas.jpg\n",
      "(761 / 1515): ./data/photos/3427_anfas.jpg\n"
     ]
    }
   ],
   "source": [
    "path_to_images = \"./data/photos/\"\n",
    "images = facer.load_images(path_to_images)\n",
    "\n",
    "# Detect landmarks for each face\n",
    "landmarks, faces = facer.detect_face_landmarks(images)\n",
    "\n",
    "# Use  the detected landmarks to create an average face\n",
    "average_face = facer.create_average_face(faces, landmarks, save_image=True)\n",
    "\n",
    "# View the composite image\n",
    "plt.imshow(average_face)\n",
    "plt.show()"
   ]
  },
  {
   "cell_type": "code",
   "execution_count": null,
   "id": "2efb53c6",
   "metadata": {},
   "outputs": [],
   "source": [
    "path_to_images = \"./data/humans/\"\n",
    "images = facer.load_images(path_to_images)\n",
    "\n",
    "# Detect landmarks for each face\n",
    "landmarks, faces = facer.detect_face_landmarks(images)\n",
    "\n",
    "# Use  the detected landmarks to create an average face\n",
    "average_face = facer.create_average_face(faces, landmarks, save_image=True)\n",
    "\n",
    "# View the composite image\n",
    "plt.imshow(average_face)\n",
    "plt.show()"
   ]
  }
 ],
 "metadata": {
  "kernelspec": {
   "display_name": "Python 3",
   "language": "python",
   "name": "python3"
  },
  "language_info": {
   "codemirror_mode": {
    "name": "ipython",
    "version": 3
   },
   "file_extension": ".py",
   "mimetype": "text/x-python",
   "name": "python",
   "nbconvert_exporter": "python",
   "pygments_lexer": "ipython3",
   "version": "3.7.10"
  }
 },
 "nbformat": 4,
 "nbformat_minor": 5
}
